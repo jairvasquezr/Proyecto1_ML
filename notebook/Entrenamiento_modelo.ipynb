{
 "cells": [
  {
   "cell_type": "code",
   "execution_count": 1,
   "id": "989d6548",
   "metadata": {},
   "outputs": [],
   "source": [
    "import numpy as np\n",
    "import pandas as pd\n",
    "import matplotlib.pyplot as plt \n",
    "import seaborn as sns\n",
    "# Para modelo\n",
    "from sklearn.metrics import mean_squared_error, r2_score\n",
    "from sklearn.neighbors import KNeighborsRegressor\n",
    "from sklearn.tree import DecisionTreeRegressor\n",
    "from sklearn.ensemble import RandomForestRegressor,AdaBoostRegressor\n",
    "from sklearn.svm import SVR\n",
    "from sklearn.linear_model import LinearRegression, Ridge,Lasso\n",
    "from sklearn.metrics import r2_score, mean_absolute_error, mean_squared_error\n",
    "from sklearn.model_selection import RandomizedSearchCV\n",
    "from catboost import CatBoostRegressor\n",
    "from xgboost import XGBRegressor\n",
    "import warnings"
   ]
  },
  {
   "cell_type": "markdown",
   "id": "44013d8f",
   "metadata": {},
   "source": [
    "## Importación de data CSV \n",
    "Importación como un dataframe de pandas"
   ]
  },
  {
   "cell_type": "code",
   "execution_count": 2,
   "id": "3ee746ef",
   "metadata": {},
   "outputs": [],
   "source": [
    "df = pd.read_csv('data.csv')"
   ]
  },
  {
   "cell_type": "code",
   "execution_count": 3,
   "id": "23744f41",
   "metadata": {},
   "outputs": [
    {
     "data": {
      "text/html": [
       "<div>\n",
       "<style scoped>\n",
       "    .dataframe tbody tr th:only-of-type {\n",
       "        vertical-align: middle;\n",
       "    }\n",
       "\n",
       "    .dataframe tbody tr th {\n",
       "        vertical-align: top;\n",
       "    }\n",
       "\n",
       "    .dataframe thead th {\n",
       "        text-align: right;\n",
       "    }\n",
       "</style>\n",
       "<table border=\"1\" class=\"dataframe\">\n",
       "  <thead>\n",
       "    <tr style=\"text-align: right;\">\n",
       "      <th></th>\n",
       "      <th>gender</th>\n",
       "      <th>race_ethnicity</th>\n",
       "      <th>parental_level_of_education</th>\n",
       "      <th>lunch</th>\n",
       "      <th>test_preparation_course</th>\n",
       "      <th>math_score</th>\n",
       "      <th>reading_score</th>\n",
       "      <th>writing_score</th>\n",
       "    </tr>\n",
       "  </thead>\n",
       "  <tbody>\n",
       "    <tr>\n",
       "      <th>0</th>\n",
       "      <td>female</td>\n",
       "      <td>group B</td>\n",
       "      <td>bachelor's degree</td>\n",
       "      <td>standard</td>\n",
       "      <td>none</td>\n",
       "      <td>72</td>\n",
       "      <td>72</td>\n",
       "      <td>74</td>\n",
       "    </tr>\n",
       "    <tr>\n",
       "      <th>1</th>\n",
       "      <td>female</td>\n",
       "      <td>group C</td>\n",
       "      <td>some college</td>\n",
       "      <td>standard</td>\n",
       "      <td>completed</td>\n",
       "      <td>69</td>\n",
       "      <td>90</td>\n",
       "      <td>88</td>\n",
       "    </tr>\n",
       "    <tr>\n",
       "      <th>2</th>\n",
       "      <td>female</td>\n",
       "      <td>group B</td>\n",
       "      <td>master's degree</td>\n",
       "      <td>standard</td>\n",
       "      <td>none</td>\n",
       "      <td>90</td>\n",
       "      <td>95</td>\n",
       "      <td>93</td>\n",
       "    </tr>\n",
       "    <tr>\n",
       "      <th>3</th>\n",
       "      <td>male</td>\n",
       "      <td>group A</td>\n",
       "      <td>associate's degree</td>\n",
       "      <td>free/reduced</td>\n",
       "      <td>none</td>\n",
       "      <td>47</td>\n",
       "      <td>57</td>\n",
       "      <td>44</td>\n",
       "    </tr>\n",
       "    <tr>\n",
       "      <th>4</th>\n",
       "      <td>male</td>\n",
       "      <td>group C</td>\n",
       "      <td>some college</td>\n",
       "      <td>standard</td>\n",
       "      <td>none</td>\n",
       "      <td>76</td>\n",
       "      <td>78</td>\n",
       "      <td>75</td>\n",
       "    </tr>\n",
       "  </tbody>\n",
       "</table>\n",
       "</div>"
      ],
      "text/plain": [
       "   gender race_ethnicity parental_level_of_education         lunch  \\\n",
       "0  female        group B           bachelor's degree      standard   \n",
       "1  female        group C                some college      standard   \n",
       "2  female        group B             master's degree      standard   \n",
       "3    male        group A          associate's degree  free/reduced   \n",
       "4    male        group C                some college      standard   \n",
       "\n",
       "  test_preparation_course  math_score  reading_score  writing_score  \n",
       "0                    none          72             72             74  \n",
       "1               completed          69             90             88  \n",
       "2                    none          90             95             93  \n",
       "3                    none          47             57             44  \n",
       "4                    none          76             78             75  "
      ]
     },
     "execution_count": 3,
     "metadata": {},
     "output_type": "execute_result"
    }
   ],
   "source": [
    "df.head(5)"
   ]
  },
  {
   "cell_type": "markdown",
   "id": "17547447",
   "metadata": {},
   "source": [
    "Por simplicidad, la variable objetivo(a predecir) será math_score."
   ]
  },
  {
   "cell_type": "markdown",
   "id": "f7db7f6a",
   "metadata": {},
   "source": [
    "## Preparando variables dependientes"
   ]
  },
  {
   "cell_type": "code",
   "execution_count": null,
   "id": "9eb5bfae",
   "metadata": {},
   "outputs": [],
   "source": [
    "X = df.drop(columns=['math_score'], axis=1)\n",
    "\n",
    "#axis=0: Drops rows (default behavior).\n",
    "#axis=1: Drops columns."
   ]
  },
  {
   "cell_type": "code",
   "execution_count": 5,
   "id": "59b3603d",
   "metadata": {},
   "outputs": [
    {
     "data": {
      "text/html": [
       "<div>\n",
       "<style scoped>\n",
       "    .dataframe tbody tr th:only-of-type {\n",
       "        vertical-align: middle;\n",
       "    }\n",
       "\n",
       "    .dataframe tbody tr th {\n",
       "        vertical-align: top;\n",
       "    }\n",
       "\n",
       "    .dataframe thead th {\n",
       "        text-align: right;\n",
       "    }\n",
       "</style>\n",
       "<table border=\"1\" class=\"dataframe\">\n",
       "  <thead>\n",
       "    <tr style=\"text-align: right;\">\n",
       "      <th></th>\n",
       "      <th>gender</th>\n",
       "      <th>race_ethnicity</th>\n",
       "      <th>parental_level_of_education</th>\n",
       "      <th>lunch</th>\n",
       "      <th>test_preparation_course</th>\n",
       "      <th>reading_score</th>\n",
       "      <th>writing_score</th>\n",
       "    </tr>\n",
       "  </thead>\n",
       "  <tbody>\n",
       "    <tr>\n",
       "      <th>0</th>\n",
       "      <td>female</td>\n",
       "      <td>group B</td>\n",
       "      <td>bachelor's degree</td>\n",
       "      <td>standard</td>\n",
       "      <td>none</td>\n",
       "      <td>72</td>\n",
       "      <td>74</td>\n",
       "    </tr>\n",
       "    <tr>\n",
       "      <th>1</th>\n",
       "      <td>female</td>\n",
       "      <td>group C</td>\n",
       "      <td>some college</td>\n",
       "      <td>standard</td>\n",
       "      <td>completed</td>\n",
       "      <td>90</td>\n",
       "      <td>88</td>\n",
       "    </tr>\n",
       "    <tr>\n",
       "      <th>2</th>\n",
       "      <td>female</td>\n",
       "      <td>group B</td>\n",
       "      <td>master's degree</td>\n",
       "      <td>standard</td>\n",
       "      <td>none</td>\n",
       "      <td>95</td>\n",
       "      <td>93</td>\n",
       "    </tr>\n",
       "    <tr>\n",
       "      <th>3</th>\n",
       "      <td>male</td>\n",
       "      <td>group A</td>\n",
       "      <td>associate's degree</td>\n",
       "      <td>free/reduced</td>\n",
       "      <td>none</td>\n",
       "      <td>57</td>\n",
       "      <td>44</td>\n",
       "    </tr>\n",
       "    <tr>\n",
       "      <th>4</th>\n",
       "      <td>male</td>\n",
       "      <td>group C</td>\n",
       "      <td>some college</td>\n",
       "      <td>standard</td>\n",
       "      <td>none</td>\n",
       "      <td>78</td>\n",
       "      <td>75</td>\n",
       "    </tr>\n",
       "  </tbody>\n",
       "</table>\n",
       "</div>"
      ],
      "text/plain": [
       "   gender race_ethnicity parental_level_of_education         lunch  \\\n",
       "0  female        group B           bachelor's degree      standard   \n",
       "1  female        group C                some college      standard   \n",
       "2  female        group B             master's degree      standard   \n",
       "3    male        group A          associate's degree  free/reduced   \n",
       "4    male        group C                some college      standard   \n",
       "\n",
       "  test_preparation_course  reading_score  writing_score  \n",
       "0                    none             72             74  \n",
       "1               completed             90             88  \n",
       "2                    none             95             93  \n",
       "3                    none             57             44  \n",
       "4                    none             78             75  "
      ]
     },
     "execution_count": 5,
     "metadata": {},
     "output_type": "execute_result"
    }
   ],
   "source": [
    "X.head()"
   ]
  },
  {
   "cell_type": "code",
   "execution_count": 6,
   "id": "4185a5c2",
   "metadata": {},
   "outputs": [],
   "source": [
    "y = df['math_score']"
   ]
  },
  {
   "cell_type": "code",
   "execution_count": 7,
   "id": "a5903860",
   "metadata": {},
   "outputs": [
    {
     "data": {
      "text/plain": [
       "0    72\n",
       "1    69\n",
       "2    90\n",
       "3    47\n",
       "4    76\n",
       "Name: math_score, dtype: int64"
      ]
     },
     "execution_count": 7,
     "metadata": {},
     "output_type": "execute_result"
    }
   ],
   "source": [
    "y.head()"
   ]
  },
  {
   "cell_type": "markdown",
   "id": "cfc456b8",
   "metadata": {},
   "source": [
    "Separaremos las variables numéricas de las categóricas de el dataframe X y transformaremos las variables con OneHotEndoder (para las variables categóricas) y StandarScaler(para las variables numéricas)"
   ]
  },
  {
   "cell_type": "code",
   "execution_count": null,
   "id": "a035669b",
   "metadata": {},
   "outputs": [],
   "source": [
    "num_features = X.select_dtypes(exclude='object').columns\n",
    "cat_features = X.select_dtypes(include='object').columns\n",
    "\n",
    "from sklearn.preprocessing import OneHotEncoder, StandardScaler\n",
    "from sklearn.compose import ColumnTransformer\n",
    "\n",
    "numeric_transformer = StandardScaler()\n",
    "oh_transformer = OneHotEncoder()\n",
    "\n",
    "preprocessor = ColumnTransformer(\n",
    "    [\n",
    "        ('OneHotEncoder', oh_transformer, cat_features), # Aplica one-hot a columnas categóricas\n",
    "        ('StandardScaler', numeric_transformer, num_features) # Aplica escalado estándar a columnas numéricas\n",
    "\n",
    "    ]\n",
    ")"
   ]
  },
  {
   "cell_type": "code",
   "execution_count": 9,
   "id": "ace02df1",
   "metadata": {},
   "outputs": [],
   "source": [
    "X = preprocessor.fit_transform(X)"
   ]
  },
  {
   "cell_type": "code",
   "execution_count": 11,
   "id": "e9e235c3",
   "metadata": {},
   "outputs": [
    {
     "data": {
      "text/plain": [
       "(1000, 19)"
      ]
     },
     "execution_count": 11,
     "metadata": {},
     "output_type": "execute_result"
    }
   ],
   "source": [
    "X.shape"
   ]
  },
  {
   "cell_type": "code",
   "execution_count": 13,
   "id": "cd1cf0f4",
   "metadata": {},
   "outputs": [
    {
     "data": {
      "text/plain": [
       "((800, 19), (200, 19))"
      ]
     },
     "execution_count": 13,
     "metadata": {},
     "output_type": "execute_result"
    }
   ],
   "source": [
    "# Separando dataset entre train y test\n",
    "from sklearn.model_selection import train_test_split\n",
    "\n",
    "X_train, X_test, y_train, y_test = train_test_split(X, y, test_size=0.2, random_state=123)\n",
    "\n",
    "X_train.shape, X_test.shape \n",
    "\n"
   ]
  },
  {
   "cell_type": "markdown",
   "id": "c4b94603",
   "metadata": {},
   "source": [
    "### Funciones para obtención de métricas"
   ]
  },
  {
   "cell_type": "code",
   "execution_count": 14,
   "id": "da7de3ee",
   "metadata": {},
   "outputs": [],
   "source": [
    "def evaluate_model(true, predicted):\n",
    "    mae = mean_absolute_error(true, predicted)\n",
    "    mse = mean_squared_error(true, predicted)\n",
    "    rmse = np.sqrt(mean_squared_error(true, predicted))\n",
    "    r2_square = r2_score(true, predicted)\n",
    "    return mae, mse, r2_square\n",
    "\n",
    "# MAE: promedio de errores absolutos; mide desviación media sin penalizar grandes errores\n",
    "# MSE: promedio de errores al cuadrado; penaliza más los errores grandes\n",
    "# RMSE: raíz cuadrada del MSE; mantiene unidades originales y resalta errores grandes\n",
    "# R²: proporción de varianza explicada por el modelo; 1 es perfecto, 0 es sin mejora\n"
   ]
  },
  {
   "cell_type": "code",
   "execution_count": 16,
   "id": "823dbedc",
   "metadata": {},
   "outputs": [
    {
     "name": "stdout",
     "output_type": "stream",
     "text": [
      "Linear Regression\n",
      "Performance del modelo para el conjunto de entrenamiento\n",
      "- Root Mean Squared Error: 28.4675\n",
      "- Mean Absolute Error: 4.2574\n",
      "- R2 Score: 0.8755\n",
      "----------------------------------\n",
      "Performance del modelo para conjunto de test\n",
      "- Root Mean Squared Error: 28.0801\n",
      "- Mean Absolute Error: 4.1920\n",
      "- R2 Score: 0.8791\n",
      "===================================\n",
      "\n",
      "\n",
      "Lasso\n",
      "Performance del modelo para el conjunto de entrenamiento\n",
      "- Root Mean Squared Error: 43.5236\n",
      "- Mean Absolute Error: 5.1811\n",
      "- R2 Score: 0.8096\n",
      "----------------------------------\n",
      "Performance del modelo para conjunto de test\n",
      "- Root Mean Squared Error: 37.5922\n",
      "- Mean Absolute Error: 4.9571\n",
      "- R2 Score: 0.8381\n",
      "===================================\n",
      "\n",
      "\n",
      "Ridge\n",
      "Performance del modelo para el conjunto de entrenamiento\n",
      "- Root Mean Squared Error: 28.3577\n",
      "- Mean Absolute Error: 4.2532\n",
      "- R2 Score: 0.8760\n",
      "----------------------------------\n",
      "Performance del modelo para conjunto de test\n",
      "- Root Mean Squared Error: 28.3923\n",
      "- Mean Absolute Error: 4.1930\n",
      "- R2 Score: 0.8777\n",
      "===================================\n",
      "\n",
      "\n",
      "K-Neighbors Regressor\n",
      "Performance del modelo para el conjunto de entrenamiento\n",
      "- Root Mean Squared Error: 34.5549\n",
      "- Mean Absolute Error: 4.6498\n",
      "- R2 Score: 0.8489\n",
      "----------------------------------\n",
      "Performance del modelo para conjunto de test\n",
      "- Root Mean Squared Error: 47.1814\n",
      "- Mean Absolute Error: 5.5550\n",
      "- R2 Score: 0.7968\n",
      "===================================\n",
      "\n",
      "\n",
      "Decision Tree\n",
      "Performance del modelo para el conjunto de entrenamiento\n",
      "- Root Mean Squared Error: 0.0181\n",
      "- Mean Absolute Error: 0.0088\n",
      "- R2 Score: 0.9999\n",
      "----------------------------------\n",
      "Performance del modelo para conjunto de test\n",
      "- Root Mean Squared Error: 61.3400\n",
      "- Mean Absolute Error: 6.2000\n",
      "- R2 Score: 0.7358\n",
      "===================================\n",
      "\n",
      "\n",
      "Random Forest Regressor\n",
      "Performance del modelo para el conjunto de entrenamiento\n",
      "- Root Mean Squared Error: 5.2252\n",
      "- Mean Absolute Error: 1.7998\n",
      "- R2 Score: 0.9771\n",
      "----------------------------------\n",
      "Performance del modelo para conjunto de test\n",
      "- Root Mean Squared Error: 33.0960\n",
      "- Mean Absolute Error: 4.6577\n",
      "- R2 Score: 0.8575\n",
      "===================================\n",
      "\n",
      "\n",
      "XGBRegressor\n",
      "Performance del modelo para el conjunto de entrenamiento\n",
      "- Root Mean Squared Error: 0.7712\n",
      "- Mean Absolute Error: 0.6040\n",
      "- R2 Score: 0.9966\n",
      "----------------------------------\n",
      "Performance del modelo para conjunto de test\n",
      "- Root Mean Squared Error: 40.1473\n",
      "- Mean Absolute Error: 5.1149\n",
      "- R2 Score: 0.8271\n",
      "===================================\n",
      "\n",
      "\n",
      "CatBoosting Regressor\n",
      "Performance del modelo para el conjunto de entrenamiento\n",
      "- Root Mean Squared Error: 8.5400\n",
      "- Mean Absolute Error: 2.3076\n",
      "- R2 Score: 0.9626\n",
      "----------------------------------\n",
      "Performance del modelo para conjunto de test\n",
      "- Root Mean Squared Error: 32.4662\n",
      "- Mean Absolute Error: 4.5929\n",
      "- R2 Score: 0.8602\n",
      "===================================\n",
      "\n",
      "\n",
      "AdaBoost Regressor\n",
      "Performance del modelo para el conjunto de entrenamiento\n",
      "- Root Mean Squared Error: 33.6165\n",
      "- Mean Absolute Error: 4.6913\n",
      "- R2 Score: 0.8530\n",
      "----------------------------------\n",
      "Performance del modelo para conjunto de test\n",
      "- Root Mean Squared Error: 33.6207\n",
      "- Mean Absolute Error: 4.7820\n",
      "- R2 Score: 0.8552\n",
      "===================================\n",
      "\n",
      "\n"
     ]
    }
   ],
   "source": [
    "# Diccionario con modelos de regresión a evaluar\n",
    "models = {\n",
    "    \"Linear Regression\": LinearRegression(), # Regresión lineal clásica\n",
    "    \"Lasso\": Lasso(), # Regresión con regularización L1\n",
    "    \"Ridge\": Ridge(), # Regresión con regularización L2\n",
    "    \"K-Neighbors Regressor\": KNeighborsRegressor(), # Predicción basada en vecinos más cercanos\n",
    "    \"Decision Tree\": DecisionTreeRegressor(), # Árbol de decisión \n",
    "    \"Random Forest Regressor\": RandomForestRegressor(),  # Ensamble \n",
    "    \"XGBRegressor\": XGBRegressor(), # Boosting basado en gradiente\n",
    "    \"CatBoosting Regressor\": CatBoostRegressor(verbose=False),  # Boosting optimizado para variables categóricas\n",
    "    \"AdaBoost Regressor\": AdaBoostRegressor() # Boosting adaptativo\n",
    "}\n",
    "\n",
    "model_list = []\n",
    "r2_list =[]\n",
    "\n",
    "# Itera sobre cada modelo en el diccionario:\n",
    "for i in range(len(list(models))):\n",
    "    model = list(models.values())[i] # Extrae el modelo actual\n",
    "    model.fit(X_train, y_train) # Entrena el modelo con datos de entrenamiento\n",
    "\n",
    "    # Predicciones sobre entrenamiento y prueba\n",
    "    y_train_pred = model.predict(X_train)\n",
    "    y_test_pred = model.predict(X_test) \n",
    "    \n",
    "    # Evalúa métricas de train\n",
    "    model_train_mae , model_train_rmse, model_train_r2 = evaluate_model(y_train, y_train_pred)\n",
    "\n",
    "    # Evalúa métricas en prueba\n",
    "    model_test_mae , model_test_rmse, model_test_r2 = evaluate_model(y_test, y_test_pred)\n",
    "\n",
    "    # Imprime nombre del modelo\n",
    "    print(list(models.keys())[i])\n",
    "    model_list.append(list(models.keys())[i]) # Guarda nombre del modelo\n",
    "    \n",
    "    # Métricas del conjunto de entrenamiento\n",
    "    print('Performance del modelo para el conjunto de entrenamiento')\n",
    "    print(\"- Root Mean Squared Error: {:.4f}\".format(model_train_rmse))\n",
    "    print(\"- Mean Absolute Error: {:.4f}\".format(model_train_mae))\n",
    "    print(\"- R2 Score: {:.4f}\".format(model_train_r2))\n",
    "\n",
    "    print('----------------------------------')\n",
    "    \n",
    "    print('Performance del modelo para conjunto de test')\n",
    "    print(\"- Root Mean Squared Error: {:.4f}\".format(model_test_rmse))\n",
    "    print(\"- Mean Absolute Error: {:.4f}\".format(model_test_mae))\n",
    "    print(\"- R2 Score: {:.4f}\".format(model_test_r2))\n",
    "    r2_list.append(model_test_r2) # Guarda R² de test\n",
    "    \n",
    "    print('='*35)\n",
    "    print('\\n')"
   ]
  },
  {
   "cell_type": "markdown",
   "id": "ea246b6d",
   "metadata": {},
   "source": [
    "## Results"
   ]
  },
  {
   "cell_type": "code",
   "execution_count": 17,
   "id": "321ead57",
   "metadata": {},
   "outputs": [
    {
     "data": {
      "text/html": [
       "<div>\n",
       "<style scoped>\n",
       "    .dataframe tbody tr th:only-of-type {\n",
       "        vertical-align: middle;\n",
       "    }\n",
       "\n",
       "    .dataframe tbody tr th {\n",
       "        vertical-align: top;\n",
       "    }\n",
       "\n",
       "    .dataframe thead th {\n",
       "        text-align: right;\n",
       "    }\n",
       "</style>\n",
       "<table border=\"1\" class=\"dataframe\">\n",
       "  <thead>\n",
       "    <tr style=\"text-align: right;\">\n",
       "      <th></th>\n",
       "      <th>Model Name</th>\n",
       "      <th>R2_Score</th>\n",
       "    </tr>\n",
       "  </thead>\n",
       "  <tbody>\n",
       "    <tr>\n",
       "      <th>0</th>\n",
       "      <td>Linear Regression</td>\n",
       "      <td>0.879065</td>\n",
       "    </tr>\n",
       "    <tr>\n",
       "      <th>2</th>\n",
       "      <td>Ridge</td>\n",
       "      <td>0.877720</td>\n",
       "    </tr>\n",
       "    <tr>\n",
       "      <th>7</th>\n",
       "      <td>CatBoosting Regressor</td>\n",
       "      <td>0.860175</td>\n",
       "    </tr>\n",
       "    <tr>\n",
       "      <th>5</th>\n",
       "      <td>Random Forest Regressor</td>\n",
       "      <td>0.857463</td>\n",
       "    </tr>\n",
       "    <tr>\n",
       "      <th>8</th>\n",
       "      <td>AdaBoost Regressor</td>\n",
       "      <td>0.855203</td>\n",
       "    </tr>\n",
       "    <tr>\n",
       "      <th>1</th>\n",
       "      <td>Lasso</td>\n",
       "      <td>0.838098</td>\n",
       "    </tr>\n",
       "    <tr>\n",
       "      <th>6</th>\n",
       "      <td>XGBRegressor</td>\n",
       "      <td>0.827094</td>\n",
       "    </tr>\n",
       "    <tr>\n",
       "      <th>3</th>\n",
       "      <td>K-Neighbors Regressor</td>\n",
       "      <td>0.796800</td>\n",
       "    </tr>\n",
       "    <tr>\n",
       "      <th>4</th>\n",
       "      <td>Decision Tree</td>\n",
       "      <td>0.735822</td>\n",
       "    </tr>\n",
       "  </tbody>\n",
       "</table>\n",
       "</div>"
      ],
      "text/plain": [
       "                Model Name  R2_Score\n",
       "0        Linear Regression  0.879065\n",
       "2                    Ridge  0.877720\n",
       "7    CatBoosting Regressor  0.860175\n",
       "5  Random Forest Regressor  0.857463\n",
       "8       AdaBoost Regressor  0.855203\n",
       "1                    Lasso  0.838098\n",
       "6             XGBRegressor  0.827094\n",
       "3    K-Neighbors Regressor  0.796800\n",
       "4            Decision Tree  0.735822"
      ]
     },
     "execution_count": 17,
     "metadata": {},
     "output_type": "execute_result"
    }
   ],
   "source": [
    "# DataFrame con los nombres de los modelos y sus respectivos R²\n",
    "pd.DataFrame(list(zip(model_list, r2_list)),  # Empareja cada modelo con su R²\n",
    "             columns=['Model Name', 'R2_Score']).sort_values(by=[\"R2_Score\"],ascending=False)  # Ordena por desempeño (R²)"
   ]
  },
  {
   "cell_type": "markdown",
   "id": "e4d54f52",
   "metadata": {},
   "source": [
    "La tabla anterior muestra que no por usar una técnica más sofisticada se obtendrá mejores resultados. En general, es bueno evaluar y testear distintos modelos"
   ]
  },
  {
   "cell_type": "markdown",
   "id": "ca5d7433",
   "metadata": {},
   "source": [
    "## Linear Regression"
   ]
  },
  {
   "cell_type": "code",
   "execution_count": 18,
   "id": "3aa76d8c",
   "metadata": {},
   "outputs": [
    {
     "name": "stdout",
     "output_type": "stream",
     "text": [
      " Accuracy of the model is 87.91\n"
     ]
    }
   ],
   "source": [
    "lin_model = LinearRegression(fit_intercept=True)\n",
    "lin_model = lin_model.fit(X_train, y_train)\n",
    "y_pred = lin_model.predict(X_test)\n",
    "score = r2_score(y_test, y_pred)*100\n",
    "print(\" Accuracy of the model is %.2f\" %score)"
   ]
  },
  {
   "cell_type": "markdown",
   "id": "3c722f47",
   "metadata": {},
   "source": [
    "### Graficando y_pred y y_test:"
   ]
  },
  {
   "cell_type": "code",
   "execution_count": 19,
   "id": "55cbd209",
   "metadata": {},
   "outputs": [
    {
     "data": {
      "text/plain": [
       "Text(0, 0.5, 'Predicho')"
      ]
     },
     "execution_count": 19,
     "metadata": {},
     "output_type": "execute_result"
    },
    {
     "data": {
      "image/png": "[encoded data removed]",
      "text/plain": [
       "<Figure size 640x480 with 1 Axes>"
      ]
     },
     "metadata": {},
     "output_type": "display_data"
    }
   ],
   "source": [
    "plt.scatter(y_test, y_pred)\n",
    "plt.xlabel('Real')\n",
    "plt.ylabel('Predicho')"
   ]
  },
  {
   "cell_type": "code",
   "execution_count": 20,
   "id": "a64f0170",
   "metadata": {},
   "outputs": [
    {
     "data": {
      "text/plain": [
       "<Axes: xlabel='math_score'>"
      ]
     },
     "execution_count": 20,
     "metadata": {},
     "output_type": "execute_result"
    },
    {
     "data": {
      "image/png": "[encoded data removed]",
      "text/plain": [
       "<Figure size 640x480 with 1 Axes>"
      ]
     },
     "metadata": {},
     "output_type": "display_data"
    }
   ],
   "source": [
    "sns.regplot(x=y_test, y=y_pred, ci=None, color='b')"
   ]
  },
  {
   "cell_type": "markdown",
   "id": "4a2918b1",
   "metadata": {},
   "source": [
    "### Diferencia entre valores reales y predichos"
   ]
  },
  {
   "cell_type": "code",
   "execution_count": 21,
   "id": "4b3fa48e",
   "metadata": {},
   "outputs": [
    {
     "data": {
      "text/html": [
       "<div>\n",
       "<style scoped>\n",
       "    .dataframe tbody tr th:only-of-type {\n",
       "        vertical-align: middle;\n",
       "    }\n",
       "\n",
       "    .dataframe tbody tr th {\n",
       "        vertical-align: top;\n",
       "    }\n",
       "\n",
       "    .dataframe thead th {\n",
       "        text-align: right;\n",
       "    }\n",
       "</style>\n",
       "<table border=\"1\" class=\"dataframe\">\n",
       "  <thead>\n",
       "    <tr style=\"text-align: right;\">\n",
       "      <th></th>\n",
       "      <th>Valor real</th>\n",
       "      <th>Valor predicho</th>\n",
       "      <th>Diferencia</th>\n",
       "    </tr>\n",
       "  </thead>\n",
       "  <tbody>\n",
       "    <tr>\n",
       "      <th>131</th>\n",
       "      <td>53</td>\n",
       "      <td>39.87500</td>\n",
       "      <td>13.12500</td>\n",
       "    </tr>\n",
       "    <tr>\n",
       "      <th>203</th>\n",
       "      <td>57</td>\n",
       "      <td>62.06250</td>\n",
       "      <td>-5.06250</td>\n",
       "    </tr>\n",
       "    <tr>\n",
       "      <th>50</th>\n",
       "      <td>53</td>\n",
       "      <td>61.84375</td>\n",
       "      <td>-8.84375</td>\n",
       "    </tr>\n",
       "    <tr>\n",
       "      <th>585</th>\n",
       "      <td>65</td>\n",
       "      <td>68.81250</td>\n",
       "      <td>-3.81250</td>\n",
       "    </tr>\n",
       "    <tr>\n",
       "      <th>138</th>\n",
       "      <td>59</td>\n",
       "      <td>59.90625</td>\n",
       "      <td>-0.90625</td>\n",
       "    </tr>\n",
       "    <tr>\n",
       "      <th>...</th>\n",
       "      <td>...</td>\n",
       "      <td>...</td>\n",
       "      <td>...</td>\n",
       "    </tr>\n",
       "    <tr>\n",
       "      <th>79</th>\n",
       "      <td>62</td>\n",
       "      <td>64.71875</td>\n",
       "      <td>-2.71875</td>\n",
       "    </tr>\n",
       "    <tr>\n",
       "      <th>177</th>\n",
       "      <td>71</td>\n",
       "      <td>66.15625</td>\n",
       "      <td>4.84375</td>\n",
       "    </tr>\n",
       "    <tr>\n",
       "      <th>657</th>\n",
       "      <td>69</td>\n",
       "      <td>68.93750</td>\n",
       "      <td>0.06250</td>\n",
       "    </tr>\n",
       "    <tr>\n",
       "      <th>210</th>\n",
       "      <td>80</td>\n",
       "      <td>78.00000</td>\n",
       "      <td>2.00000</td>\n",
       "    </tr>\n",
       "    <tr>\n",
       "      <th>381</th>\n",
       "      <td>87</td>\n",
       "      <td>97.50000</td>\n",
       "      <td>-10.50000</td>\n",
       "    </tr>\n",
       "  </tbody>\n",
       "</table>\n",
       "<p>200 rows × 3 columns</p>\n",
       "</div>"
      ],
      "text/plain": [
       "     Valor real  Valor predicho  Diferencia\n",
       "131          53        39.87500    13.12500\n",
       "203          57        62.06250    -5.06250\n",
       "50           53        61.84375    -8.84375\n",
       "585          65        68.81250    -3.81250\n",
       "138          59        59.90625    -0.90625\n",
       "..          ...             ...         ...\n",
       "79           62        64.71875    -2.71875\n",
       "177          71        66.15625     4.84375\n",
       "657          69        68.93750     0.06250\n",
       "210          80        78.00000     2.00000\n",
       "381          87        97.50000   -10.50000\n",
       "\n",
       "[200 rows x 3 columns]"
      ]
     },
     "execution_count": 21,
     "metadata": {},
     "output_type": "execute_result"
    }
   ],
   "source": [
    "pred_df = pd.DataFrame({'Valor real':y_test, 'Valor predicho':y_pred, 'Diferencia':y_test - y_pred})\n",
    "pred_df"
   ]
  },
  {
   "cell_type": "code",
   "execution_count": null,
   "id": "b0ee0165",
   "metadata": {},
   "outputs": [],
   "source": []
  }
 ],
 "metadata": {
  "kernelspec": {
   "display_name": "Python 3",
   "language": "python",
   "name": "python3"
  },
  "language_info": {
   "codemirror_mode": {
    "name": "ipython",
    "version": 3
   },
   "file_extension": ".py",
   "mimetype": "text/x-python",
   "name": "python",
   "nbconvert_exporter": "python",
   "pygments_lexer": "ipython3",
   "version": "3.8.0"
  }
 },
 "nbformat": 4,
 "nbformat_minor": 5
}
